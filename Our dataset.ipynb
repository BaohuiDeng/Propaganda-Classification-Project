{
 "cells": [
  {
   "cell_type": "markdown",
   "metadata": {},
   "source": [
    "# step 1: Predefined CLass"
   ]
  },
  {
   "cell_type": "code",
   "execution_count": 1,
   "metadata": {},
   "outputs": [],
   "source": [
    "class Propaganda:\n",
    "    NEGATIVE = \"NEGATIVE\"\n",
    "    POSITIVE = \"POSITIVE\"\n",
    "\n",
    "class Review:\n",
    "    def __init__(self,sentence,SUBJprop):\n",
    "        self.sentence = sentence\n",
    "        self.SUBJprop = SUBJprop\n",
    "        self.propaganda = self.get_propaganda()\n",
    "\n",
    "    def get_propaganda(self):\n",
    "        if self.SUBJprop <=3:\n",
    "            return Propaganda.NEGATIVE\n",
    "        else:\n",
    "            return Propaganda.POSITIVE"
   ]
  },
  {
   "cell_type": "markdown",
   "metadata": {},
   "source": [
    "# step 2: Load Data"
   ]
  },
  {
   "cell_type": "code",
   "execution_count": 45,
   "metadata": {},
   "outputs": [
    {
     "name": "stdout",
     "output_type": "stream",
     "text": [
      "miley and liam fighting false rumors swirl that theyre in a feud over a supposed prenup\n",
      "NEGATIVE\n"
     ]
    }
   ],
   "source": [
    "import pandas as pd\n",
    "import numpy as np\n",
    "reviews = []\n",
    "data  = pd.read_excel('Data/Dataset.xlsx', engine='openpyxl')\n",
    "df = pd.DataFrame(data, columns = ['Sentence','SUBJprop'])\n",
    "df.dropna()\n",
    "\n",
    "\n",
    "# iterate elements of attribute \"Sentence\" and \"SUBJprop\" and push to the array \"reviews\"\n",
    "\n",
    "for index, row in df.iterrows():\n",
    "    sentence = row['Sentence']\n",
    "    prop = row['SUBJprop']\n",
    "    reviews.append(Review(sentence,prop))\n",
    "\n",
    "\n",
    "print(reviews[0].sentence)\n",
    "print(reviews[0].propaganda)\n",
    "\n",
    "\n"
   ]
  },
  {
   "cell_type": "markdown",
   "metadata": {},
   "source": [
    "# step 3: Prep Data (split into train and test set)"
   ]
  },
  {
   "cell_type": "code",
   "execution_count": 46,
   "metadata": {},
   "outputs": [
    {
     "name": "stdout",
     "output_type": "stream",
     "text": [
      "991\n",
      "496\n",
      "495\n",
      "chibok girls kidnapper jailed for 15 years  kano nigeria a man involved in the 2014 kidnapping of more than 200 schoolgirls from chibok in northeast nigeria has been jailed for 15 years the government confirmed on tuesday\n"
     ]
    }
   ],
   "source": [
    "from sklearn.model_selection import train_test_split\n",
    "training, test = train_test_split(reviews, train_size=0.7, random_state = 42 ) \n",
    "# len(training)\n",
    "print(len(test)) # 70% of traning set\n",
    "\n",
    "developmentSet, testSet = train_test_split(test, train_size=0.5, random_state = 42 ) \n",
    "print(len(testSet)) # 15% of test set\n",
    "print(len(developmentSet)) # 15% of development set\n",
    "print(developmentSet[0].sentence)"
   ]
  },
  {
   "cell_type": "markdown",
   "metadata": {},
   "source": [
    "# step 4: Seperate the attribute, originally our array has text and score. we want them to be a seperate array\n"
   ]
  },
  {
   "cell_type": "code",
   "execution_count": 47,
   "metadata": {},
   "outputs": [],
   "source": [
    "train_sentence = [ x.sentence for x  in training]     # return just text\n",
    "train_propaganda = [x.propaganda for x in training]   # return just sentiment\n",
    "\n",
    "test_sentence = [x.sentence for x in testSet]\n",
    "test_propaganda = [x.propaganda for x in testSet]\n",
    "\n",
    "development_sentence = [x.sentence for x in developmentSet]\n",
    "development_propaganda = [x.propaganda for x in developmentSet]\n",
    "\n"
   ]
  },
  {
   "cell_type": "markdown",
   "metadata": {},
   "source": [
    "# step 4: Bag Of Words"
   ]
  },
  {
   "cell_type": "code",
   "execution_count": 50,
   "metadata": {},
   "outputs": [
    {
     "name": "stdout",
     "output_type": "stream",
     "text": [
      "bey and serena have been running in the same circles since the 22time grammy winner was a member of destiny’s child\n",
      "[[0 0 0 ... 0 0 0]]\n",
      "[[0 0 0 ... 0 0 0]]\n"
     ]
    }
   ],
   "source": [
    "from sklearn.feature_extraction.text import CountVectorizer\n",
    "vectorizer = CountVectorizer()\n",
    "train_x_vectors = vectorizer.fit_transform(train_sentence) # return a matrix of either 0 or 1 # train_x is our text\n",
    "test_x_vectors = vectorizer.transform(test_sentence)\n",
    "# Todo:\n",
    "# transform development set to vectors\n",
    "print(train_sentence[0])\n",
    "print(train_x_vectors[0].toarray())\n",
    "print(test_x_vectors[0].toarray())"
   ]
  },
  {
   "cell_type": "markdown",
   "metadata": {},
   "source": [
    "# step 5: Classification SVM"
   ]
  },
  {
   "cell_type": "code",
   "execution_count": 90,
   "metadata": {},
   "outputs": [
    {
     "data": {
      "text/plain": "array(['NEGATIVE'], dtype='<U8')"
     },
     "execution_count": 90,
     "metadata": {},
     "output_type": "execute_result"
    }
   ],
   "source": [
    "from sklearn import svm\n",
    "\n",
    "clf_svm = svm.SVC(kernel='rbf',C=1)\n",
    "clf_svm.fit(train_x_vectors, train_propaganda)\n",
    "\n",
    "clf_svm.predict(test_x_vectors[1])"
   ]
  },
  {
   "cell_type": "markdown",
   "metadata": {},
   "source": [
    "# step 5: Decision Tree "
   ]
  },
  {
   "cell_type": "code",
   "execution_count": 91,
   "metadata": {},
   "outputs": [
    {
     "data": {
      "text/plain": "array(['NEGATIVE'], dtype='<U8')"
     },
     "execution_count": 91,
     "metadata": {},
     "output_type": "execute_result"
    }
   ],
   "source": [
    "from sklearn.tree import DecisionTreeClassifier\n",
    "\n",
    "clf_dec = DecisionTreeClassifier()\n",
    "clf_dec.fit(train_x_vectors, train_propaganda)\n",
    "\n",
    "clf_dec.predict(test_x_vectors[1])"
   ]
  },
  {
   "cell_type": "markdown",
   "metadata": {},
   "source": [
    "# step 5: Logistic Regression"
   ]
  },
  {
   "cell_type": "code",
   "execution_count": 92,
   "metadata": {},
   "outputs": [
    {
     "data": {
      "text/plain": "array(['NEGATIVE'], dtype='<U8')"
     },
     "execution_count": 92,
     "metadata": {},
     "output_type": "execute_result"
    }
   ],
   "source": [
    "from sklearn.linear_model import LogisticRegression\n",
    "\n",
    "clf_log = LogisticRegression()\n",
    "clf_log.fit(train_x_vectors, train_propaganda)\n",
    "\n",
    "clf_log.predict(test_x_vectors[1])"
   ]
  },
  {
   "cell_type": "markdown",
   "metadata": {},
   "source": [
    "# step 6: Evaluation"
   ]
  },
  {
   "cell_type": "code",
   "execution_count": 93,
   "metadata": {},
   "outputs": [
    {
     "name": "stdout",
     "output_type": "stream",
     "text": [
      "0.9737903225806451\n",
      "0.9193548387096774\n",
      "0.9717741935483871\n"
     ]
    }
   ],
   "source": [
    "# Mean Accuracy\n",
    "# For Support Vector Machine\n",
    "print(clf_svm.score(test_x_vectors,test_propaganda))\n",
    "# For Decision Tree\n",
    "print(clf_dec.score(test_x_vectors,test_propaganda))\n",
    "# For Logistic Regression\n",
    "print(clf_log.score(test_x_vectors,test_propaganda))"
   ]
  },
  {
   "cell_type": "code",
   "execution_count": 95,
   "metadata": {},
   "outputs": [
    {
     "name": "stdout",
     "output_type": "stream",
     "text": [
      "[0.         0.98672114]\n",
      "[0.04761905 0.95789474]\n",
      "[0.         0.98568507]\n"
     ]
    }
   ],
   "source": [
    "# F1 Scores\n",
    "from sklearn.metrics import f1_score\n",
    "\n",
    "# For Support Vector Machine\n",
    "print(f1_score(test_propaganda, clf_svm.predict(test_x_vectors),average = None, \n",
    "labels=[Propaganda.POSITIVE,Propaganda.NEGATIVE]))\n",
    "# trash for negative and neutral labels\n",
    "\n",
    "# For Support Decision Tree\n",
    "print(f1_score(test_propaganda,clf_dec.predict(test_x_vectors),average = None, \n",
    "labels=[Propaganda.POSITIVE,Propaganda.NEGATIVE]))\n",
    "\n",
    "\n",
    "# For Logistic Regression\n",
    "print(f1_score(test_propaganda,clf_log.predict(test_x_vectors),average = None, \n",
    "labels=[Propaganda.POSITIVE,Propaganda.NEGATIVE]))\n"
   ]
  },
  {
   "cell_type": "code",
   "execution_count": 71,
   "metadata": {},
   "outputs": [
    {
     "name": "stdout",
     "output_type": "stream",
     "text": [
      "75\n",
      "2236\n",
      "483\n",
      "13\n",
      "478\n",
      "17\n"
     ]
    }
   ],
   "source": [
    "import numpy as np\n",
    "# check number of positive and negative classes in training set\n",
    "print(train_propaganda.count(Propaganda.POSITIVE))\n",
    "print(train_propaganda.count(Propaganda.NEGATIVE))\n",
    "\n",
    "# check number of positive and negative classes in test set\n",
    "y = np.array(test_propaganda)\n",
    "number_of_NEGATIVE = (y == \"NEGATIVE\").sum()\n",
    "number_of_POSITIVE = (y == \"POSITIVE\").sum()\n",
    "print(number_of_NEGATIVE)\n",
    "print(number_of_POSITIVE)\n",
    "\n",
    "# check number of positive and negative classes in development set\n",
    "\n",
    "y = np.array(development_propaganda)\n",
    "Dnumber_of_NEGATIVE = (y == \"NEGATIVE\").sum()\n",
    "Dnumber_of_POSITIVE = (y == \"POSITIVE\").sum()\n",
    "print(Dnumber_of_NEGATIVE)\n",
    "print(Dnumber_of_POSITIVE)\n",
    "\n"
   ]
  },
  {
   "cell_type": "code",
   "execution_count": 72,
   "metadata": {},
   "outputs": [
    {
     "data": {
      "text/plain": "array(['NEGATIVE', 'NEGATIVE', 'NEGATIVE'], dtype='<U8')"
     },
     "execution_count": 72,
     "metadata": {},
     "output_type": "execute_result"
    }
   ],
   "source": [
    "test_set =['this is advertisement','bad book do not buy','horrible waste of time']\n",
    "new_test = vectorizer.transform(test_set)\n",
    "clf_svm.predict(new_test)"
   ]
  },
  {
   "cell_type": "markdown",
   "metadata": {},
   "source": [
    "# step 7: Tuning our model (with Grid Search)"
   ]
  },
  {
   "cell_type": "code",
   "execution_count": 74,
   "metadata": {},
   "outputs": [
    {
     "data": {
      "text/plain": "{'mean_fit_time': array([0.27320447, 0.67022581, 0.20351579, 0.55123885, 0.20574124,\n        0.47740765, 0.20137808, 0.41298549, 0.19411895, 0.56466937,\n        0.22485716, 0.43851888]),\n 'std_fit_time': array([0.04711192, 0.1968799 , 0.00476683, 0.10113094, 0.00541937,\n        0.09228566, 0.01168189, 0.00889045, 0.01774756, 0.11364768,\n        0.05027391, 0.08015903]),\n 'mean_score_time': array([0.02650533, 0.06406367, 0.02055156, 0.05172002, 0.02098153,\n        0.04960811, 0.02010186, 0.04560652, 0.01941109, 0.08710849,\n        0.02798283, 0.05384669]),\n 'std_score_time': array([0.00559316, 0.02832779, 0.00059292, 0.00234023, 0.00149918,\n        0.00655486, 0.00112681, 0.00111799, 0.00215659, 0.04548177,\n        0.02646646, 0.02205971]),\n 'param_C': masked_array(data=[1, 1, 4, 4, 8, 8, 16, 16, 32, 32, 64, 64],\n              mask=[False, False, False, False, False, False, False, False,\n                    False, False, False, False],\n        fill_value='?',\n             dtype=object),\n 'param_kernel': masked_array(data=['linear', 'rbf', 'linear', 'rbf', 'linear', 'rbf',\n                    'linear', 'rbf', 'linear', 'rbf', 'linear', 'rbf'],\n              mask=[False, False, False, False, False, False, False, False,\n                    False, False, False, False],\n        fill_value='?',\n             dtype=object),\n 'params': [{'C': 1, 'kernel': 'linear'},\n  {'C': 1, 'kernel': 'rbf'},\n  {'C': 4, 'kernel': 'linear'},\n  {'C': 4, 'kernel': 'rbf'},\n  {'C': 8, 'kernel': 'linear'},\n  {'C': 8, 'kernel': 'rbf'},\n  {'C': 16, 'kernel': 'linear'},\n  {'C': 16, 'kernel': 'rbf'},\n  {'C': 32, 'kernel': 'linear'},\n  {'C': 32, 'kernel': 'rbf'},\n  {'C': 64, 'kernel': 'linear'},\n  {'C': 64, 'kernel': 'rbf'}],\n 'split0_test_score': array([0.95689655, 0.96551724, 0.94396552, 0.96551724, 0.94827586,\n        0.96551724, 0.94827586, 0.9612069 , 0.94827586, 0.9612069 ,\n        0.93534483, 0.9612069 ]),\n 'split1_test_score': array([0.96103896, 0.96969697, 0.94805195, 0.96969697, 0.94805195,\n        0.96969697, 0.95670996, 0.96969697, 0.95670996, 0.96969697,\n        0.92640693, 0.96969697]),\n 'split2_test_score': array([0.95238095, 0.96969697, 0.95238095, 0.96969697, 0.94805195,\n        0.96969697, 0.94372294, 0.96969697, 0.95238095, 0.96969697,\n        0.94805195, 0.96969697]),\n 'split3_test_score': array([0.96103896, 0.96969697, 0.95670996, 0.96969697, 0.95670996,\n        0.96969697, 0.95670996, 0.96969697, 0.95670996, 0.96536797,\n        0.93939394, 0.96536797]),\n 'split4_test_score': array([0.96536797, 0.96969697, 0.96103896, 0.96969697, 0.96103896,\n        0.96969697, 0.96103896, 0.96969697, 0.95238095, 0.96969697,\n        0.94372294, 0.96969697]),\n 'split5_test_score': array([0.96536797, 0.96969697, 0.96536797, 0.96969697, 0.95670996,\n        0.96969697, 0.96103896, 0.96969697, 0.94805195, 0.96969697,\n        0.91341991, 0.96969697]),\n 'split6_test_score': array([0.96536797, 0.96536797, 0.96536797, 0.96536797, 0.96536797,\n        0.96536797, 0.96536797, 0.96536797, 0.96536797, 0.96536797,\n        0.95238095, 0.96536797]),\n 'split7_test_score': array([0.95238095, 0.96536797, 0.94805195, 0.96536797, 0.94805195,\n        0.96536797, 0.95238095, 0.96536797, 0.94805195, 0.96536797,\n        0.92207792, 0.96536797]),\n 'split8_test_score': array([0.97402597, 0.96536797, 0.97402597, 0.96536797, 0.97402597,\n        0.96536797, 0.97402597, 0.96536797, 0.96536797, 0.96536797,\n        0.96103896, 0.96536797]),\n 'split9_test_score': array([0.97402597, 0.96536797, 0.97402597, 0.96536797, 0.97402597,\n        0.96536797, 0.96969697, 0.96536797, 0.97835498, 0.96536797,\n        0.95238095, 0.96536797]),\n 'mean_test_score': array([0.96278922, 0.9675474 , 0.95889872, 0.9675474 , 0.95803105,\n        0.9675474 , 0.95889685, 0.96711636, 0.95716525, 0.96668346,\n        0.93942193, 0.96668346]),\n 'std_test_score': array([0.00728007, 0.00214999, 0.0102544 , 0.00214999, 0.00985878,\n        0.00214999, 0.00889753, 0.00283632, 0.00935357, 0.00273807,\n        0.01434949, 0.00273807]),\n 'rank_test_score': array([ 7,  1,  8,  1, 10,  1,  9,  4, 11,  5, 12,  5], dtype=int32)}"
     },
     "execution_count": 74,
     "metadata": {},
     "output_type": "execute_result"
    }
   ],
   "source": [
    "from sklearn.model_selection import GridSearchCV\n",
    "\n",
    "# tuned = svm.SVC()\n",
    "parameters = {'kernel':('linear','rbf'),'C':(1,4,8,16,32,64)}\n",
    "svc = svm.SVC()\n",
    "clf = GridSearchCV(svc,parameters,cv=10)\n",
    "clf.fit(train_x_vectors,train_propaganda)\n",
    "clf.cv_results_\n"
   ]
  },
  {
   "cell_type": "code",
   "execution_count": 77,
   "metadata": {},
   "outputs": [
    {
     "data": {
      "text/html": "<div>\n<style scoped>\n    .dataframe tbody tr th:only-of-type {\n        vertical-align: middle;\n    }\n\n    .dataframe tbody tr th {\n        vertical-align: top;\n    }\n\n    .dataframe thead th {\n        text-align: right;\n    }\n</style>\n<table border=\"1\" class=\"dataframe\">\n  <thead>\n    <tr style=\"text-align: right;\">\n      <th></th>\n      <th>mean_fit_time</th>\n      <th>std_fit_time</th>\n      <th>mean_score_time</th>\n      <th>std_score_time</th>\n      <th>param_C</th>\n      <th>param_kernel</th>\n      <th>params</th>\n      <th>split0_test_score</th>\n      <th>split1_test_score</th>\n      <th>split2_test_score</th>\n      <th>split3_test_score</th>\n      <th>split4_test_score</th>\n      <th>split5_test_score</th>\n      <th>split6_test_score</th>\n      <th>split7_test_score</th>\n      <th>split8_test_score</th>\n      <th>split9_test_score</th>\n      <th>mean_test_score</th>\n      <th>std_test_score</th>\n      <th>rank_test_score</th>\n    </tr>\n  </thead>\n  <tbody>\n    <tr>\n      <th>0</th>\n      <td>0.273204</td>\n      <td>0.047112</td>\n      <td>0.026505</td>\n      <td>0.005593</td>\n      <td>1</td>\n      <td>linear</td>\n      <td>{'C': 1, 'kernel': 'linear'}</td>\n      <td>0.956897</td>\n      <td>0.961039</td>\n      <td>0.952381</td>\n      <td>0.961039</td>\n      <td>0.965368</td>\n      <td>0.965368</td>\n      <td>0.965368</td>\n      <td>0.952381</td>\n      <td>0.974026</td>\n      <td>0.974026</td>\n      <td>0.962789</td>\n      <td>0.007280</td>\n      <td>7</td>\n    </tr>\n    <tr>\n      <th>1</th>\n      <td>0.670226</td>\n      <td>0.196880</td>\n      <td>0.064064</td>\n      <td>0.028328</td>\n      <td>1</td>\n      <td>rbf</td>\n      <td>{'C': 1, 'kernel': 'rbf'}</td>\n      <td>0.965517</td>\n      <td>0.969697</td>\n      <td>0.969697</td>\n      <td>0.969697</td>\n      <td>0.969697</td>\n      <td>0.969697</td>\n      <td>0.965368</td>\n      <td>0.965368</td>\n      <td>0.965368</td>\n      <td>0.965368</td>\n      <td>0.967547</td>\n      <td>0.002150</td>\n      <td>1</td>\n    </tr>\n    <tr>\n      <th>2</th>\n      <td>0.203516</td>\n      <td>0.004767</td>\n      <td>0.020552</td>\n      <td>0.000593</td>\n      <td>4</td>\n      <td>linear</td>\n      <td>{'C': 4, 'kernel': 'linear'}</td>\n      <td>0.943966</td>\n      <td>0.948052</td>\n      <td>0.952381</td>\n      <td>0.956710</td>\n      <td>0.961039</td>\n      <td>0.965368</td>\n      <td>0.965368</td>\n      <td>0.948052</td>\n      <td>0.974026</td>\n      <td>0.974026</td>\n      <td>0.958899</td>\n      <td>0.010254</td>\n      <td>8</td>\n    </tr>\n    <tr>\n      <th>3</th>\n      <td>0.551239</td>\n      <td>0.101131</td>\n      <td>0.051720</td>\n      <td>0.002340</td>\n      <td>4</td>\n      <td>rbf</td>\n      <td>{'C': 4, 'kernel': 'rbf'}</td>\n      <td>0.965517</td>\n      <td>0.969697</td>\n      <td>0.969697</td>\n      <td>0.969697</td>\n      <td>0.969697</td>\n      <td>0.969697</td>\n      <td>0.965368</td>\n      <td>0.965368</td>\n      <td>0.965368</td>\n      <td>0.965368</td>\n      <td>0.967547</td>\n      <td>0.002150</td>\n      <td>1</td>\n    </tr>\n    <tr>\n      <th>4</th>\n      <td>0.205741</td>\n      <td>0.005419</td>\n      <td>0.020982</td>\n      <td>0.001499</td>\n      <td>8</td>\n      <td>linear</td>\n      <td>{'C': 8, 'kernel': 'linear'}</td>\n      <td>0.948276</td>\n      <td>0.948052</td>\n      <td>0.948052</td>\n      <td>0.956710</td>\n      <td>0.961039</td>\n      <td>0.956710</td>\n      <td>0.965368</td>\n      <td>0.948052</td>\n      <td>0.974026</td>\n      <td>0.974026</td>\n      <td>0.958031</td>\n      <td>0.009859</td>\n      <td>10</td>\n    </tr>\n    <tr>\n      <th>5</th>\n      <td>0.477408</td>\n      <td>0.092286</td>\n      <td>0.049608</td>\n      <td>0.006555</td>\n      <td>8</td>\n      <td>rbf</td>\n      <td>{'C': 8, 'kernel': 'rbf'}</td>\n      <td>0.965517</td>\n      <td>0.969697</td>\n      <td>0.969697</td>\n      <td>0.969697</td>\n      <td>0.969697</td>\n      <td>0.969697</td>\n      <td>0.965368</td>\n      <td>0.965368</td>\n      <td>0.965368</td>\n      <td>0.965368</td>\n      <td>0.967547</td>\n      <td>0.002150</td>\n      <td>1</td>\n    </tr>\n    <tr>\n      <th>6</th>\n      <td>0.201378</td>\n      <td>0.011682</td>\n      <td>0.020102</td>\n      <td>0.001127</td>\n      <td>16</td>\n      <td>linear</td>\n      <td>{'C': 16, 'kernel': 'linear'}</td>\n      <td>0.948276</td>\n      <td>0.956710</td>\n      <td>0.943723</td>\n      <td>0.956710</td>\n      <td>0.961039</td>\n      <td>0.961039</td>\n      <td>0.965368</td>\n      <td>0.952381</td>\n      <td>0.974026</td>\n      <td>0.969697</td>\n      <td>0.958897</td>\n      <td>0.008898</td>\n      <td>9</td>\n    </tr>\n    <tr>\n      <th>7</th>\n      <td>0.412985</td>\n      <td>0.008890</td>\n      <td>0.045607</td>\n      <td>0.001118</td>\n      <td>16</td>\n      <td>rbf</td>\n      <td>{'C': 16, 'kernel': 'rbf'}</td>\n      <td>0.961207</td>\n      <td>0.969697</td>\n      <td>0.969697</td>\n      <td>0.969697</td>\n      <td>0.969697</td>\n      <td>0.969697</td>\n      <td>0.965368</td>\n      <td>0.965368</td>\n      <td>0.965368</td>\n      <td>0.965368</td>\n      <td>0.967116</td>\n      <td>0.002836</td>\n      <td>4</td>\n    </tr>\n    <tr>\n      <th>8</th>\n      <td>0.194119</td>\n      <td>0.017748</td>\n      <td>0.019411</td>\n      <td>0.002157</td>\n      <td>32</td>\n      <td>linear</td>\n      <td>{'C': 32, 'kernel': 'linear'}</td>\n      <td>0.948276</td>\n      <td>0.956710</td>\n      <td>0.952381</td>\n      <td>0.956710</td>\n      <td>0.952381</td>\n      <td>0.948052</td>\n      <td>0.965368</td>\n      <td>0.948052</td>\n      <td>0.965368</td>\n      <td>0.978355</td>\n      <td>0.957165</td>\n      <td>0.009354</td>\n      <td>11</td>\n    </tr>\n    <tr>\n      <th>9</th>\n      <td>0.564669</td>\n      <td>0.113648</td>\n      <td>0.087108</td>\n      <td>0.045482</td>\n      <td>32</td>\n      <td>rbf</td>\n      <td>{'C': 32, 'kernel': 'rbf'}</td>\n      <td>0.961207</td>\n      <td>0.969697</td>\n      <td>0.969697</td>\n      <td>0.965368</td>\n      <td>0.969697</td>\n      <td>0.969697</td>\n      <td>0.965368</td>\n      <td>0.965368</td>\n      <td>0.965368</td>\n      <td>0.965368</td>\n      <td>0.966683</td>\n      <td>0.002738</td>\n      <td>5</td>\n    </tr>\n    <tr>\n      <th>10</th>\n      <td>0.224857</td>\n      <td>0.050274</td>\n      <td>0.027983</td>\n      <td>0.026466</td>\n      <td>64</td>\n      <td>linear</td>\n      <td>{'C': 64, 'kernel': 'linear'}</td>\n      <td>0.935345</td>\n      <td>0.926407</td>\n      <td>0.948052</td>\n      <td>0.939394</td>\n      <td>0.943723</td>\n      <td>0.913420</td>\n      <td>0.952381</td>\n      <td>0.922078</td>\n      <td>0.961039</td>\n      <td>0.952381</td>\n      <td>0.939422</td>\n      <td>0.014349</td>\n      <td>12</td>\n    </tr>\n    <tr>\n      <th>11</th>\n      <td>0.438519</td>\n      <td>0.080159</td>\n      <td>0.053847</td>\n      <td>0.022060</td>\n      <td>64</td>\n      <td>rbf</td>\n      <td>{'C': 64, 'kernel': 'rbf'}</td>\n      <td>0.961207</td>\n      <td>0.969697</td>\n      <td>0.969697</td>\n      <td>0.965368</td>\n      <td>0.969697</td>\n      <td>0.969697</td>\n      <td>0.965368</td>\n      <td>0.965368</td>\n      <td>0.965368</td>\n      <td>0.965368</td>\n      <td>0.966683</td>\n      <td>0.002738</td>\n      <td>5</td>\n    </tr>\n  </tbody>\n</table>\n</div>",
      "text/plain": "    mean_fit_time  std_fit_time  mean_score_time  std_score_time param_C  \\\n0        0.273204      0.047112         0.026505        0.005593       1   \n1        0.670226      0.196880         0.064064        0.028328       1   \n2        0.203516      0.004767         0.020552        0.000593       4   \n3        0.551239      0.101131         0.051720        0.002340       4   \n4        0.205741      0.005419         0.020982        0.001499       8   \n5        0.477408      0.092286         0.049608        0.006555       8   \n6        0.201378      0.011682         0.020102        0.001127      16   \n7        0.412985      0.008890         0.045607        0.001118      16   \n8        0.194119      0.017748         0.019411        0.002157      32   \n9        0.564669      0.113648         0.087108        0.045482      32   \n10       0.224857      0.050274         0.027983        0.026466      64   \n11       0.438519      0.080159         0.053847        0.022060      64   \n\n   param_kernel                         params  split0_test_score  \\\n0        linear   {'C': 1, 'kernel': 'linear'}           0.956897   \n1           rbf      {'C': 1, 'kernel': 'rbf'}           0.965517   \n2        linear   {'C': 4, 'kernel': 'linear'}           0.943966   \n3           rbf      {'C': 4, 'kernel': 'rbf'}           0.965517   \n4        linear   {'C': 8, 'kernel': 'linear'}           0.948276   \n5           rbf      {'C': 8, 'kernel': 'rbf'}           0.965517   \n6        linear  {'C': 16, 'kernel': 'linear'}           0.948276   \n7           rbf     {'C': 16, 'kernel': 'rbf'}           0.961207   \n8        linear  {'C': 32, 'kernel': 'linear'}           0.948276   \n9           rbf     {'C': 32, 'kernel': 'rbf'}           0.961207   \n10       linear  {'C': 64, 'kernel': 'linear'}           0.935345   \n11          rbf     {'C': 64, 'kernel': 'rbf'}           0.961207   \n\n    split1_test_score  split2_test_score  split3_test_score  \\\n0            0.961039           0.952381           0.961039   \n1            0.969697           0.969697           0.969697   \n2            0.948052           0.952381           0.956710   \n3            0.969697           0.969697           0.969697   \n4            0.948052           0.948052           0.956710   \n5            0.969697           0.969697           0.969697   \n6            0.956710           0.943723           0.956710   \n7            0.969697           0.969697           0.969697   \n8            0.956710           0.952381           0.956710   \n9            0.969697           0.969697           0.965368   \n10           0.926407           0.948052           0.939394   \n11           0.969697           0.969697           0.965368   \n\n    split4_test_score  split5_test_score  split6_test_score  \\\n0            0.965368           0.965368           0.965368   \n1            0.969697           0.969697           0.965368   \n2            0.961039           0.965368           0.965368   \n3            0.969697           0.969697           0.965368   \n4            0.961039           0.956710           0.965368   \n5            0.969697           0.969697           0.965368   \n6            0.961039           0.961039           0.965368   \n7            0.969697           0.969697           0.965368   \n8            0.952381           0.948052           0.965368   \n9            0.969697           0.969697           0.965368   \n10           0.943723           0.913420           0.952381   \n11           0.969697           0.969697           0.965368   \n\n    split7_test_score  split8_test_score  split9_test_score  mean_test_score  \\\n0            0.952381           0.974026           0.974026         0.962789   \n1            0.965368           0.965368           0.965368         0.967547   \n2            0.948052           0.974026           0.974026         0.958899   \n3            0.965368           0.965368           0.965368         0.967547   \n4            0.948052           0.974026           0.974026         0.958031   \n5            0.965368           0.965368           0.965368         0.967547   \n6            0.952381           0.974026           0.969697         0.958897   \n7            0.965368           0.965368           0.965368         0.967116   \n8            0.948052           0.965368           0.978355         0.957165   \n9            0.965368           0.965368           0.965368         0.966683   \n10           0.922078           0.961039           0.952381         0.939422   \n11           0.965368           0.965368           0.965368         0.966683   \n\n    std_test_score  rank_test_score  \n0         0.007280                7  \n1         0.002150                1  \n2         0.010254                8  \n3         0.002150                1  \n4         0.009859               10  \n5         0.002150                1  \n6         0.008898                9  \n7         0.002836                4  \n8         0.009354               11  \n9         0.002738                5  \n10        0.014349               12  \n11        0.002738                5  "
     },
     "execution_count": 77,
     "metadata": {},
     "output_type": "execute_result"
    }
   ],
   "source": [
    "import pandas as pd\n",
    "\n",
    "df = pd.DataFrame(clf.cv_results_)\n",
    "df"
   ]
  },
  {
   "cell_type": "code",
   "execution_count": 78,
   "metadata": {},
   "outputs": [
    {
     "data": {
      "text/html": "<div>\n<style scoped>\n    .dataframe tbody tr th:only-of-type {\n        vertical-align: middle;\n    }\n\n    .dataframe tbody tr th {\n        vertical-align: top;\n    }\n\n    .dataframe thead th {\n        text-align: right;\n    }\n</style>\n<table border=\"1\" class=\"dataframe\">\n  <thead>\n    <tr style=\"text-align: right;\">\n      <th></th>\n      <th>param_C</th>\n      <th>param_kernel</th>\n      <th>mean_test_score</th>\n    </tr>\n  </thead>\n  <tbody>\n    <tr>\n      <th>0</th>\n      <td>1</td>\n      <td>linear</td>\n      <td>0.962789</td>\n    </tr>\n    <tr>\n      <th>1</th>\n      <td>1</td>\n      <td>rbf</td>\n      <td>0.967547</td>\n    </tr>\n    <tr>\n      <th>2</th>\n      <td>4</td>\n      <td>linear</td>\n      <td>0.958899</td>\n    </tr>\n    <tr>\n      <th>3</th>\n      <td>4</td>\n      <td>rbf</td>\n      <td>0.967547</td>\n    </tr>\n    <tr>\n      <th>4</th>\n      <td>8</td>\n      <td>linear</td>\n      <td>0.958031</td>\n    </tr>\n    <tr>\n      <th>5</th>\n      <td>8</td>\n      <td>rbf</td>\n      <td>0.967547</td>\n    </tr>\n    <tr>\n      <th>6</th>\n      <td>16</td>\n      <td>linear</td>\n      <td>0.958897</td>\n    </tr>\n    <tr>\n      <th>7</th>\n      <td>16</td>\n      <td>rbf</td>\n      <td>0.967116</td>\n    </tr>\n    <tr>\n      <th>8</th>\n      <td>32</td>\n      <td>linear</td>\n      <td>0.957165</td>\n    </tr>\n    <tr>\n      <th>9</th>\n      <td>32</td>\n      <td>rbf</td>\n      <td>0.966683</td>\n    </tr>\n    <tr>\n      <th>10</th>\n      <td>64</td>\n      <td>linear</td>\n      <td>0.939422</td>\n    </tr>\n    <tr>\n      <th>11</th>\n      <td>64</td>\n      <td>rbf</td>\n      <td>0.966683</td>\n    </tr>\n  </tbody>\n</table>\n</div>",
      "text/plain": "   param_C param_kernel  mean_test_score\n0        1       linear         0.962789\n1        1          rbf         0.967547\n2        4       linear         0.958899\n3        4          rbf         0.967547\n4        8       linear         0.958031\n5        8          rbf         0.967547\n6       16       linear         0.958897\n7       16          rbf         0.967116\n8       32       linear         0.957165\n9       32          rbf         0.966683\n10      64       linear         0.939422\n11      64          rbf         0.966683"
     },
     "execution_count": 78,
     "metadata": {},
     "output_type": "execute_result"
    }
   ],
   "source": [
    "df[['param_C','param_kernel','mean_test_score']]"
   ]
  },
  {
   "cell_type": "code",
   "execution_count": 79,
   "metadata": {},
   "outputs": [
    {
     "data": {
      "text/plain": "{'C': 1, 'kernel': 'rbf'}"
     },
     "execution_count": 79,
     "metadata": {},
     "output_type": "execute_result"
    }
   ],
   "source": [
    "clf.best_params_"
   ]
  }
 ],
 "metadata": {
  "kernelspec": {
   "display_name": "Python 3.8.2 64-bit",
   "name": "python382jvsc74a57bd0082e9a3bcad0a290d0001e938aa60b99250c6c2ef33a923c00b70f9826caf4b7"
  },
  "language_info": {
   "codemirror_mode": {
    "name": "ipython",
    "version": 3
   },
   "file_extension": ".py",
   "mimetype": "text/x-python",
   "name": "python",
   "nbconvert_exporter": "python",
   "pygments_lexer": "ipython3",
   "version": "3.8.2"
  },
  "orig_nbformat": 2
 },
 "nbformat": 4,
 "nbformat_minor": 2
}